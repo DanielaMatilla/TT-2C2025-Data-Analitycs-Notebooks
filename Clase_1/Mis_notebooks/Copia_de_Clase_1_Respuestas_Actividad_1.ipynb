{
  "cells": [
    {
      "cell_type": "markdown",
      "metadata": {
        "id": "view-in-github",
        "colab_type": "text"
      },
      "source": [
        "<a href=\"https://colab.research.google.com/github/DanielaMatilla/TT-2C2025-Data-Analitycs-Notebooks/blob/main/Clase_1/Mis_notebooks/Copia_de_Clase_1_Respuestas_Actividad_1.ipynb\" target=\"_parent\"><img src=\"https://colab.research.google.com/assets/colab-badge.svg\" alt=\"Open In Colab\"/></a>"
      ]
    },
    {
      "cell_type": "markdown",
      "source": [
        "# 🌟 Daniela Matilla\n",
        "\n",
        "Hola, soy **Daniela Matilla**, entusiasta de la programación y el aprendizaje constante.  \n",
        "Me interesa explorar *Python*, análisis de datos y desarrollo de proyectos prácticos.  \n",
        "\n",
        "Algunas de mis metas personales y profesionales son:  \n",
        "- Aprender nuevas tecnologías y aplicarlas en proyectos reales  \n",
        "- Mejorar mis habilidades en análisis de datos y visualización  \n",
        "- Colaborar y compartir conocimiento con otros  \n",
        "\n",
        "👉 Más información en la [documentación oficial de Python](https://docs.python.org/3/)\n",
        "\n",
        "Hola, soy yo\n",
        "\n",
        "![FOTO DANI PARA CV pequeña.jpg](data:image/jpeg;base64,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)\n",
        "\n",
        "\n",
        "> \"Aprender es descubrir que todo es posible.\" – frase que me inspira cada día"
      ],
      "metadata": {
        "id": "GbxasXA_vHde"
      },
      "id": "GbxasXA_vHde"
    },
    {
      "cell_type": "code",
      "execution_count": null,
      "metadata": {
        "id": "poSD68OqmQlk"
      },
      "outputs": [],
      "source": [
        "# 👋 Celda interactiva: saludo y cálculo de 3 números\n",
        "\n",
        "# Pedir nombre al usuario\n",
        "nombre = input(\"¡Hola! Ingresá tu nombre: \")\n",
        "\n",
        "print(f\"\\n¡Bienvenido/a, {nombre}! 😊\")\n",
        "\n",
        "# Mini ejercicio: ingresar 3 números y calcular promedio\n",
        "print(\"\\nAhora, ingresá 3 números para calcular su promedio:\")\n",
        "\n",
        "numeros = []\n",
        "for i in range(3):\n",
        "    num = float(input(f\"Número {i+1}: \"))\n",
        "    numeros.append(num)\n",
        "\n",
        "promedio = sum(numeros) / len(numeros)\n",
        "\n",
        "print(f\"\\nLos números ingresados son: {numeros}\")\n",
        "print(f\"El promedio es: {promedio}\")"
      ],
      "id": "poSD68OqmQlk"
    },
    {
      "cell_type": "code",
      "execution_count": null,
      "metadata": {
        "id": "YxcrJnz3mQll"
      },
      "outputs": [],
      "source": [
        "# 🏆 Celda avanzada: números ilimitados y estadísticas\n",
        "\n",
        "print(\"📊 Ingresá los números que quieras (escribí 'fin' para terminar):\")\n",
        "\n",
        "numeros = []\n",
        "\n",
        "# Ingreso de números hasta que el usuario escriba 'fin'\n",
        "while True:\n",
        "    entrada = input(\"Número (o 'fin' para terminar): \")\n",
        "    if entrada.lower() == \"fin\":\n",
        "        break\n",
        "    try:\n",
        "        num = float(entrada)\n",
        "        numeros.append(num)\n",
        "    except ValueError:\n",
        "        print(\"⚠️ Entrada inválida. Por favor, ingresá un número o 'fin'.\")\n",
        "\n",
        "# Verificamos si la lista tiene datos\n",
        "if len(numeros) > 0:\n",
        "    promedio = sum(numeros) / len(numeros)\n",
        "    mayor = max(numeros)\n",
        "    menor = min(numeros)\n",
        "    total = sum(numeros)\n",
        "\n",
        "    print(\"\\nResultados:\")\n",
        "    print(f\"Los números ingresados son: {numeros}\")\n",
        "    print(f\"Suma total: {total}\")\n",
        "    print(f\"Promedio: {promedio}\")\n",
        "    print(f\"Número mayor: {mayor}\")\n",
        "    print(f\"Número menor: {menor}\")\n",
        "\n",
        "    # Verificar si el promedio es entero y clasificarlo como par/impar\n",
        "    if promedio.is_integer():\n",
        "        if int(promedio) % 2 == 0:\n",
        "            print(f\"El promedio ({int(promedio)}) es PAR ✅\")\n",
        "        else:\n",
        "            print(f\"El promedio ({int(promedio)}) es IMPAR 🔢\")\n",
        "    else:\n",
        "        print(f\"El promedio ({promedio}) no es un número entero, así que no puede clasificarse como par o impar ⚖️\")\n",
        "else:\n",
        "    print(\"No ingresaste ningún número.\")"
      ],
      "id": "YxcrJnz3mQll"
    }
  ],
  "metadata": {
    "kernelspec": {
      "display_name": "Python 3",
      "language": "python",
      "name": "python3"
    },
    "language_info": {
      "name": "python",
      "version": "3.10"
    },
    "colab": {
      "provenance": [],
      "include_colab_link": true
    }
  },
  "nbformat": 4,
  "nbformat_minor": 5
}