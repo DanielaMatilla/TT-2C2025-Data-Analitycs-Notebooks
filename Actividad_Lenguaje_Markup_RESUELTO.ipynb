{
  "nbformat": 4,
  "nbformat_minor": 0,
  "metadata": {
    "colab": {
      "provenance": [],
      "include_colab_link": true
    },
    "kernelspec": {
      "name": "python3",
      "display_name": "Python 3"
    },
    "language_info": {
      "name": "python"
    }
  },
  "cells": [
    {
      "cell_type": "markdown",
      "metadata": {
        "id": "view-in-github",
        "colab_type": "text"
      },
      "source": [
        "<a href=\"https://colab.research.google.com/github/DanielaMatilla/TT-2C2025-Data-Analitycs-Notebooks/blob/main/Actividad_Lenguaje_Markup_RESUELTO.ipynb\" target=\"_parent\"><img src=\"https://colab.research.google.com/assets/colab-badge.svg\" alt=\"Open In Colab\"/></a>"
      ]
    },
    {
      "cell_type": "markdown",
      "source": [
        "#Actividad 1: Primer bloque de texto en Colab\n",
        "##Contexto\n",
        "Tu primera guía en SynthData será Silvia, la Project Manager. En su onboarding, suele pedir a las personas en pasantía que documenten sus descubrimientos de forma clara y visual. Aunque parezca simple, crear un buen bloque de texto en Colab es el primer paso para construir notebooks útiles, legibles y colaborativos.\n",
        "\n",
        "##Objetivos\n",
        "Aprender a utilizar los bloques de texto de Google Colab para documentar código, explicar hallazgos y agregar referencias visuales o externas. Esta habilidad te permitirá entregar trabajos entendibles tanto para colegas técnicos como para usuarios no especializados.\n",
        "\n",
        "##Ejercicio práctico\n",
        "\n",
        "* Creá un nuevo bloque de texto en tu notebook de Colab.\n",
        "* Agregá un título de nivel 1 con tu nombre.\n",
        "* Escribí un breve párrafo de presentación, incluyendo formato en negrita, cursiva, y una lista con al menos 3 ítems.\n",
        "* Insertá un link externo (por ejemplo, a una página de documentación oficial de Python).\n",
        "* Desde tu Google Drive, insertá al menos una imagen relevante para tu presentación (podés ser vos, tu setup, un mapa, lo que quieras).\n",
        "* Cerrá con una cita breve o una frase que te represente usando el formato de bloque de cita (>).\n",
        "\n",
        "##¿Por qué importa esto en SynthData?\n",
        "En SynthData, los notebooks no son solo espacios de código: son reportes vivos. Se comparten con clientes, con otros equipos, y se usan para dejar evidencia de decisiones técnicas. Saber cómo documentar con claridad, destacar lo importante y conectar visualmente los bloques de análisis es tan importante como saber programar. Silvia lo repite siempre: \"El mejor código del mundo no sirve si nadie puede leerlo después.\""
      ],
      "metadata": {
        "id": "9ob5j-yh1mS8"
      }
    },
    {
      "cell_type": "markdown",
      "source": [
        "# 🌟 J-Hope – Data Trainee en SynthData\n",
        "\n",
        "¡Hola! Soy Jung Hoseok —me conocés como **J-Hope**.  \n",
        "Esta es mi primera actividad como pasante en SynthData. Vengo del mundo del escenario, pero acá estoy listo para analizar, visualizar y documentar. Porque el ritmo también se encuentra en el código.\n",
        "\n",
        "---\n",
        "\n",
        "## 🛠️ Sobre este notebook\n",
        "\n",
        "**Objetivo:** familiarizarme con los bloques de texto en Google Colab.  \n",
        "**Aplicación real:** dejar registro claro, limpio y útil dentro de notebooks de análisis.  \n",
        "**Formato aplicado:**\n",
        "- Títulos (`#`, `##`)\n",
        "- Formato enriquecido (**negrita**, *cursiva*)\n",
        "- Listas de puntos\n",
        "- Link de referencia técnica\n",
        "- Imagen embebida desde Drive\n",
        "- Cita de cierre (para dejar marca)\n",
        "\n",
        "---\n",
        "\n",
        "## 📚 Fuente confiable\n",
        "\n",
        "[Documentación oficial de Python 3](https://docs.python.org/3/)\n",
        "\n",
        "> Porque si no lo sabés ahora, lo buscás ahí.\n",
        "\n",
        "---\n",
        "\n",
        "## 🖼️ Visualizando mi mood\n",
        "<center>\n",
        "\n",
        "![Mi energía cuando el código corre sin errores](https://drive.google.com/uc?id=1iLtgkhDnAc4j67zVJnrEwW99o3yS5O9F)\n",
        "\n",
        "</center>\n",
        "\n",
        "---\n",
        "\n",
        "## 🎙️ Frase de cierre\n",
        "\n",
        "> **\"Un dato solo no dice nada. Pero si lo hacés bailar con contexto, te cuenta una historia entera.\"**\n",
        "\n",
        "---\n",
        "\n",
        "*Primera misión completada. J-Hope, listo para la próxima ronda de limpieza de datos.*\n",
        "\n",
        "\n",
        "---\n"
      ],
      "metadata": {
        "id": "gGfsY4PcPqFu"
      }
    },
    {
      "cell_type": "markdown",
      "source": [
        "#Actividad 2: Pares, impares y primeros pasos en Python\n",
        "##Contexto\n",
        "En esta segunda tarea, tu mentor será Luis, Analista de BI. Él te va a acompañar en los primeros pasos con código. El desafío es entender cómo interactuar con los usuarios a través de la consola, tomar datos de entrada y procesarlos usando lógica condicional.\n",
        "\n",
        "##Objetivos\n",
        "Familiarizarte con los bloques de código en Colab y practicar la escritura de scripts básicos en Python. Aprender a usar `input()` y condicionales `if/else` para resolver un problema concreto y simple: detectar si un número es par o impar.\n",
        "\n",
        "##Ejercicio práctico\n",
        "\n",
        "1. Insertá un nuevo bloque de código en tu notebook de Colab.\n",
        "\n",
        "2. Escribí un programa que:\n",
        "\n",
        "  * Pida al usuario que ingrese un número entero usando input()\n",
        "\n",
        "  * Convierta ese valor a entero (int())\n",
        "\n",
        "  * Use una estructura if/else para verificar si el número es divisible por 2\n",
        "\n",
        "  * Imprima un mensaje indicando si el número es par o impar\n",
        "\n",
        "3. Ejecutá el bloque al menos dos veces, con un número par y uno impar.\n",
        "\n",
        "> No te preocupes por validar errores si se ingresa algo incorrecto. Asumimos que el usuario siempre colabora 🙂\n",
        "\n",
        "##¿Por qué importa esto en SynthData?\n",
        "Aunque este ejercicio parece elemental, es la base de todas las decisiones condicionales que usamos más adelante para filtrar datos, construir dashboards, o automatizar reportes. Luis trabaja con estructuras como estas todos los días para calcular métricas condicionales y responder preguntas como: *¿cuántos usuarios activos hubo esta semana en comparación con la anterior?*\n",
        "Dominar la lógica `if/else` es el primer paso hacia ese tipo de análisis."
      ],
      "metadata": {
        "id": "dTMDkiHgh1z6"
      }
    },
    {
      "cell_type": "code",
      "source": [
        "# ACTIVIDAD 2. Programa par o impar\n",
        "\n",
        "nro = int(input(\"Ingrese un número entero: \"))\n",
        "if nro % 2 == 0:\n",
        "  print(nro,\"es un número par.\")\n",
        "else:\n",
        "  print(nro, \"es un número impar.\")"
      ],
      "metadata": {
        "id": "0xZ6hwHrQH8l",
        "colab": {
          "base_uri": "https://localhost:8080/"
        },
        "outputId": "5d535009-a626-4bed-eb9c-aecdb74fd11c"
      },
      "execution_count": 1,
      "outputs": [
        {
          "output_type": "stream",
          "name": "stdout",
          "text": [
            "Ingrese un número entero: 20\n",
            "20 es un número par.\n"
          ]
        }
      ]
    }
  ]
}